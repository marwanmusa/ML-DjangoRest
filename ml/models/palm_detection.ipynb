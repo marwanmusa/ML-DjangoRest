{
 "cells": [
  {
   "attachments": {},
   "cell_type": "markdown",
   "metadata": {},
   "source": [
    "###  *Import Libraries*"
   ]
  },
  {
   "cell_type": "code",
   "execution_count": 1,
   "metadata": {},
   "outputs": [],
   "source": [
    "import cv2\n",
    "import mediapipe as mp"
   ]
  },
  {
   "cell_type": "code",
   "execution_count": 2,
   "metadata": {},
   "outputs": [],
   "source": [
    "mp_drawing = mp.solutions.drawing_utils\n",
    "mp_drawing_styles = mp.solutions.drawing_styles\n",
    "mp_hands = mp.solutions.hands"
   ]
  },
  {
   "attachments": {},
   "cell_type": "markdown",
   "metadata": {},
   "source": [
    "### *Static Image*"
   ]
  },
  {
   "cell_type": "code",
   "execution_count": 3,
   "metadata": {},
   "outputs": [],
   "source": [
    "IMG_FILES = []\n",
    "with mp_hands.Hands(\n",
    "    static_image_mode=True,\n",
    "    max_num_hands=2,\n",
    "    min_detection_confidence=0.5) as hands:\n",
    "    for idx, file in enumerate(IMG_FILES):\n",
    "        # Read an img, flip it around y-axis for correct handedness ouput (see above).\n",
    "        img = cv2.flip(cv2.imread(file), 1)\n",
    "\n",
    "        # Convert the BGR img to RGB before processing.\n",
    "        res = hands.process(cv2.cvtColor(img, cv2.COLOR_BGR2RGB))\n",
    "\n",
    "        # Print handness and draw hand landmarks ion the img.\n",
    "        print('Handedness:', res.multi_handedness)\n",
    "\n",
    "        if not res.multi_hand_landmarks:\n",
    "            continue\n",
    "        img_h, img_w = img.shape\n",
    "        annotated_img = img.copy()\n",
    "\n",
    "        for hand_landmarks in res.multi_hand_landmarks:\n",
    "            print('hand_landmarks:', hand_landmarks)\n",
    "            print(\n",
    "                f'Index finger tip coordinates: (',\n",
    "                f'{hand_landmarks.landmark[mp_hands.HandLandmark.INDEX_FINGER_TIP].x*img_w}, '\n",
    "                f'{hand_landmarks.landmark[mp_hands.HandLandmark.INDEX_FINGER_TIP].y*img_h})'\n",
    "            )\n",
    "            mp_drawing.draw_landmarks(\n",
    "                annotated_img,\n",
    "                hand_landmarks,\n",
    "                mp_hands.HAND_CONNECTIONS,\n",
    "                mp_drawing_styles.get_default_hand_landmarks_style(),\n",
    "                mp_drawing_styles.get_default_hand_connections_style())\n",
    "\n",
    "            cv2.imwrite('/tmp/annotated_image' + str(idx) + '.png', cv2.flip(annotated_img, 1))\n",
    "\n",
    "            # Draw hand world landmarks.\n",
    "            if not res.multi_hand_world_landmarks:\n",
    "                continue\n",
    "\n",
    "            for hand_world_landmarks in res.multi_hand_world_landmarks:\n",
    "                mp_drawing.plot_landmarks(hand_world_landmarks, mp_hands.HAND_CONNECTIONS, azimuth=5)"
   ]
  },
  {
   "cell_type": "code",
   "execution_count": 5,
   "metadata": {},
   "outputs": [
    {
     "data": {
      "text/plain": [
       "<module 'mediapipe.python.solutions.hands' from 'd:\\\\Learning_Django\\\\ml_with_djangorest\\\\venv\\\\lib\\\\site-packages\\\\mediapipe\\\\python\\\\solutions\\\\hands.py'>"
      ]
     },
     "execution_count": 5,
     "metadata": {},
     "output_type": "execute_result"
    }
   ],
   "source": [
    "mp_hands"
   ]
  },
  {
   "attachments": {},
   "cell_type": "markdown",
   "metadata": {},
   "source": [
    "### *Webcam Input*"
   ]
  },
  {
   "cell_type": "code",
   "execution_count": null,
   "metadata": {},
   "outputs": [],
   "source": [
    "cap = cv2.VideoCapture(0)\n",
    "\n",
    "with mp_hands.Hands(\n",
    "    model_complexity=0,\n",
    "    min_detection_confidence=0.5,\n",
    "    min_tracking_confidence=0.5) as hands:\n",
    "    while cap.isOpened():\n",
    "        success, img = cap.read()\n",
    "        if not success:\n",
    "            print(\" Ignoring empty camera frame.\")\n",
    "            # If loading a video, use 'break' instead of 'continue'.\n",
    "            continue\n",
    "\n",
    "        # To improve performance, optionally mark the img as not writable to pass by reference.\n",
    "        img.flags.writeable = False\n",
    "        img = cv2.cvtColor(img, cv2.COLOR_BGR2RGB)\n",
    "        res = hands.process(img)\n",
    "\n",
    "        # Draw the hand annotations no the img.add()\n",
    "        img.flags.writeable = True\n",
    "        img = cv2.cvtColor(img, cv2.COLOR_RGB2BGR)\n",
    "        if res.multi_hand_landmarks:\n",
    "            for hand_landmarks in res.multi_hand_landmarks:\n",
    "                mp_drawing.draw_landmarks(\n",
    "                    img,\n",
    "                    hand_landmarks,\n",
    "                    mp_hands.HAND_CONNECTIONS,\n",
    "                    mp_drawing_styles.get_default_hand_landmarks_style(),\n",
    "                    mp_drawing_styles.get_default_hand_connections_style())\n",
    "\n",
    "        # Flip the img horizontally for a selfie-view display.\n",
    "        cv2.imshow('MediaPipe Hands', cv2.flip(img, 1))\n",
    "        if cv2.waitKey(1) & 0xFF == ord('q'):\n",
    "            break\n",
    "cap.release()"
   ]
  }
 ],
 "metadata": {
  "kernelspec": {
   "display_name": "venv",
   "language": "python",
   "name": "python3"
  },
  "language_info": {
   "codemirror_mode": {
    "name": "ipython",
    "version": 3
   },
   "file_extension": ".py",
   "mimetype": "text/x-python",
   "name": "python",
   "nbconvert_exporter": "python",
   "pygments_lexer": "ipython3",
   "version": "3.10.6"
  },
  "orig_nbformat": 4,
  "vscode": {
   "interpreter": {
    "hash": "1c20545a1d769310691a62ac94296288e478b66574fc3af5140b411fe9716731"
   }
  }
 },
 "nbformat": 4,
 "nbformat_minor": 2
}
